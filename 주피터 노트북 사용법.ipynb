{
 "cells": [
  {
   "cell_type": "markdown",
   "id": "6aef3c81",
   "metadata": {},
   "source": [
    "# 주요 기능 단축키"
   ]
  },
  {
   "cell_type": "markdown",
   "id": "606f03b1",
   "metadata": {},
   "source": [
    "## 공통 단축키"
   ]
  },
  {
   "cell_type": "markdown",
   "id": "66f2f4e4",
   "metadata": {},
   "source": [
    "#### Ctrl + Enter: 현재 선택한 셀 실행\n",
    "#### Shift + Enter: 현재 선택한 셀 실행 후 다음 셀 이동 (없으면 생성)\n",
    "#### Alt + Enter: 현재 선택한 셀 실행 후 다음 셀 생성(삽입)\n",
    "#### Ctrl + s: 파일을 저장하고 checkpoint 생성"
   ]
  },
  {
   "cell_type": "markdown",
   "id": "58259771",
   "metadata": {},
   "source": [
    "## 명령모드 단축키"
   ]
  },
  {
   "cell_type": "markdown",
   "id": "a1a49067",
   "metadata": {},
   "source": [
    "#### Enter: 현재 선택할 셀 편집 (편집모드로 전환)\n",
    "#### 방향기 UP/DOWN: 셀 이동\n",
    "####  h: 단축키 목록 확인/변경\n",
    "####  f:  문자열 검색/바꾸기\n",
    "####  c: 현재 셀 복사\n",
    "####  x: 현재 셀 잘라내기\n",
    "####  v: 붙여 넣기\n",
    "####  z: 셀 삭제 실행 취소\n",
    "####  dd:  셀 삭제\n",
    "####  L: 행 번호 출력"
   ]
  },
  {
   "cell_type": "markdown",
   "id": "d8acd457",
   "metadata": {},
   "source": [
    "## 편집모드 단축키"
   ]
  },
  {
   "cell_type": "markdown",
   "id": "b51596c0",
   "metadata": {},
   "source": [
    "#### ESC: 명령모드로 전환\n",
    "#### Ctrl + /: 선택한 행 주석 처리\n",
    "#### Ctrl + s : 파일을 저장하고 checkpoint 생성\n",
    "#### Ctrl + z: 입력 취소\n",
    "#### Ctrl + y: 입력 다시 되돌리기 (Ctrl+z 반대)\n",
    "#### Shift + Tab: 도움말 확인\n",
    "#### Ctrl + Shift +-: 현재 커서 위치에서 셀 분할"
   ]
  },
  {
   "cell_type": "markdown",
   "id": "587f0e75",
   "metadata": {},
   "source": [
    "## 마크다운 사용"
   ]
  },
  {
   "cell_type": "markdown",
   "id": "caac6759",
   "metadata": {},
   "source": [
    "### 글씨 크기 조절하기\n",
    "#### #의 개수를 이용해서 조절\n",
    "### 볼드체와 이탤릭체\n",
    "#### 볼드체: 글씨 앞뒤로 ** 적기\n",
    "#### 이탤릭 체: 글씨 앞뒤로 *적기\n",
    "### 인용구 사용\n",
    "#### > 표시 적기\n",
    "### 수식 넣기\n",
    "#### 수식 앞뒤로 $ 넣기\n",
    "### 그림 넣기, 홈페이지 링크 넣기\n",
    "#### 하이퍼링크처럼 이름을 넣고 홈페이지 URL을 넣어서 이름을 클릭하면 연결\n",
    "##### 예시) [네이버](https://www.naver.com/)\n",
    "#### 저장되어 있는 이미지 셀에 드래그 앤 다운"
   ]
  }
 ],
 "metadata": {
  "kernelspec": {
   "display_name": "Python 3 (ipykernel)",
   "language": "python",
   "name": "python3"
  },
  "language_info": {
   "codemirror_mode": {
    "name": "ipython",
    "version": 3
   },
   "file_extension": ".py",
   "mimetype": "text/x-python",
   "name": "python",
   "nbconvert_exporter": "python",
   "pygments_lexer": "ipython3",
   "version": "3.9.6"
  }
 },
 "nbformat": 4,
 "nbformat_minor": 5
}
