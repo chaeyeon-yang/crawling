{
 "cells": [
  {
   "cell_type": "markdown",
   "metadata": {},
   "source": [
    "## CSV 형식으로 저장\n",
    "#### CSV(Comma-Seperated Values)란?\n",
    "#### 하나의 레코드를 한 라인에 저장하는 텍스트 포맷 파일\n",
    "#### 각 라인의 컬럼값은 쉼표(콤마) 등의 구분자를 사용\n",
    "#### 데이터 내에 쉼표 등의 구분자를 사용하는 문자가 포함되어 있다면 파싱 시 문제가 발생\n",
    "#### 데이터 내에 쉼표 등의 문자가 포함되어 있는 경우 TSV(Tab-Seperated Values) 형식 사용 필요"
   ]
  },
  {
   "cell_type": "markdown",
   "metadata": {},
   "source": [
    "#### -CSV 형식 저장"
   ]
  },
  {
   "cell_type": "code",
   "execution_count": 1,
   "metadata": {},
   "outputs": [],
   "source": [
    "import csv"
   ]
  },
  {
   "cell_type": "code",
   "execution_count": 2,
   "metadata": {},
   "outputs": [],
   "source": [
    "# with 구문 -> 자동 close\n",
    "# default encoding(windows) => \"cp949\"\n",
    "with open('top_cities.csv','w',newline='',encoding='utf-8') as f:\n",
    "    # 첫 번째 매개변수에 파일 객체\n",
    "    # 두 번째 매개변수에 필드명 리스트를 지정\n",
    "    writer=csv.DictWriter(f, ['rank','city','population'])\n",
    "      # 첫 번째 줄에 헤더를 입력\n",
    "    writer.writeheader()\n",
    "    # writerows()로 여러 개의 데이터를 딕셔너리 형태로 작성\n",
    "    writer.writerows([\n",
    "        {'rank':1, 'city':'상하이', 'population':24150000,\n",
    "         'rank':2, 'city':'카라치', 'population':23500000,\n",
    "         'rank':3, 'city':'베이징', 'population':21516000,\n",
    "         'rank':4, 'city':'텐진', 'population':14722100,\n",
    "         'rank':5, 'city':'이스탄불', 'population':14160467}\n",
    "    ])"
   ]
  },
  {
   "cell_type": "code",
   "execution_count": 3,
   "metadata": {},
   "outputs": [],
   "source": [
    "import chardet"
   ]
  },
  {
   "cell_type": "code",
   "execution_count": 5,
   "metadata": {},
   "outputs": [],
   "source": [
    "# chardet -> 인코딩 확인시 사용\n",
    "char_dic=chardet.detect(open('top_cities.csv','rb').read())"
   ]
  },
  {
   "cell_type": "code",
   "execution_count": 6,
   "metadata": {},
   "outputs": [],
   "source": [
    "char_dic=['encoding']"
   ]
  },
  {
   "cell_type": "code",
   "execution_count": null,
   "metadata": {},
   "outputs": [],
   "source": []
  },
  {
   "cell_type": "markdown",
   "metadata": {},
   "source": [
    "## JSON 형식으로 저장\n",
    "#### JSON(JavaScript Object Notation)이란?\n",
    "#### key-value 형식의 데이터 객체를 저장.전달하기 위한 텍스트 형식의 개방형 표준 포맷\n",
    "#### 플랫폼 및 프로그래밍 언어 독립적 데이터 포맷"
   ]
  },
  {
   "cell_type": "markdown",
   "metadata": {},
   "source": [
    "#### JSON 데이터 타입"
   ]
  },
  {
   "cell_type": "markdown",
   "metadata": {},
   "source": [
    "##### -문자열(string)\n",
    "##### -숫자(number)\n",
    "##### -객체(JSON object)\n",
    "##### -배열(array)\n",
    "##### -불리언(Boolean)\n",
    "##### -null"
   ]
  },
  {
   "cell_type": "code",
   "execution_count": 10,
   "metadata": {},
   "outputs": [
    {
     "data": {
      "image/png": "[encoded data removed]",
      "text/plain": [
       "<IPython.core.display.Image object>"
      ]
     },
     "execution_count": 10,
     "metadata": {},
     "output_type": "execute_result"
    }
   ],
   "source": [
    "# JSON 데이터 타입 중 객체\n",
    "from IPython.display import Image\n",
    "Image(\"Img/json_ex.png\")"
   ]
  },
  {
   "cell_type": "markdown",
   "metadata": {},
   "source": [
    "#### JSON 형식 저장"
   ]
  },
  {
   "cell_type": "code",
   "execution_count": 11,
   "metadata": {},
   "outputs": [],
   "source": [
    "import json"
   ]
  },
  {
   "cell_type": "code",
   "execution_count": 12,
   "metadata": {},
   "outputs": [],
   "source": [
    "# 리스트 타입의 cities (딕셔너리 타입을 인자로 가짐)\n",
    "cities=[\n",
    "    {'rank':1, 'city':'상하이', 'population':24150000},\n",
    "    {'rank':2, 'city':'카라치', 'population':23500000},\n",
    "    {'rank':3, 'city':'베이징', 'population':21516000},\n",
    "    {'rank':4, 'city':'텐진', 'population':14722100},\n",
    "    {'rank':5, 'city':'이스탄불', 'population':14160467}\n",
    "]"
   ]
  },
  {
   "cell_type": "code",
   "execution_count": 13,
   "metadata": {},
   "outputs": [],
   "source": [
    "# dump() -> 파일 시스템에 저장\n",
    "with open('top_cities.json','w') as fw:\n",
    "    json.dump(cities, fw)"
   ]
  },
  {
   "cell_type": "code",
   "execution_count": 15,
   "metadata": {},
   "outputs": [
    {
     "name": "stdout",
     "output_type": "stream",
     "text": [
      "[{'rank': 1, 'city': '상하이', 'population': 24150000}, {'rank': 2, 'city': '카라치', 'population': 23500000}, {'rank': 3, 'city': '베이징', 'population': 21516000}, {'rank': 4, 'city': '텐진', 'population': 14722100}, {'rank': 5, 'city': '이스탄불', 'population': 14160467}]\n"
     ]
    }
   ],
   "source": [
    "# load() -> 저장된 json 파일을 읽어옴\n",
    "with open('top_cities.json','r') as fr:\n",
    "    json_file=json.load(fr)\n",
    "    print(json_file)"
   ]
  },
  {
   "cell_type": "code",
   "execution_count": null,
   "metadata": {},
   "outputs": [],
   "source": []
  },
  {
   "cell_type": "markdown",
   "metadata": {},
   "source": [
    "## SQLite3 DBMS로 저장"
   ]
  },
  {
   "cell_type": "markdown",
   "metadata": {},
   "source": [
    "#### SQLite3 DBMS란?\n",
    "#### 파일시스템 기반의 경량 관계형 DBMS\n",
    "#### 파이썬에서는 SQLite3가 기본 모듈로 제공\n",
    "#### 대용량 데이터 및 트랜잭션 처리 부적합\n",
    "#### 경량 데이터 및 트랜잭션 처리, 교육용 목적 등으로 사용"
   ]
  },
  {
   "cell_type": "code",
   "execution_count": null,
   "metadata": {},
   "outputs": [],
   "source": []
  },
  {
   "cell_type": "markdown",
   "metadata": {},
   "source": [
    "#### -SQLite3 DB 저장"
   ]
  },
  {
   "cell_type": "code",
   "execution_count": 17,
   "metadata": {},
   "outputs": [],
   "source": [
    "import pandas as pd\n",
    "import sqlite3\n",
    "from pandas.io import sql\n",
    "import os # 파일 path, 디렉토리 구조, 파일시스템에 접근하기 위한 방법 제공"
   ]
  },
  {
   "cell_type": "code",
   "execution_count": 18,
   "metadata": {},
   "outputs": [],
   "source": [
    "DB_NAME='top_cities.db'\n",
    "TABLE_NAME='TOP_CITIES'"
   ]
  },
  {
   "cell_type": "code",
   "execution_count": 19,
   "metadata": {},
   "outputs": [],
   "source": [
    "# R의 df == DBMS의 table\n",
    "# insert와 update를 동시에 할 수 있는 함수\n",
    "def db_save(df, db_name, table_name):\n",
    "    with sqlite3.connect(db_name) as con:\n",
    "        try:\n",
    "            df.to_sql(name=table_name, con=con, index=False, if_exists='append')\n",
    "            # if_exist: {'fail', 'replace', 'append'} default: fail\n",
    "        except Exception as e:\n",
    "            print(str(e))\n",
    "        print(len(df), '건 저장완료...')"
   ]
  },
  {
   "cell_type": "code",
   "execution_count": 20,
   "metadata": {},
   "outputs": [],
   "source": [
    "# 저장된 db 읽어오기\n",
    "def db_select(db_name, table_name):\n",
    "    with sqlite3.connect(db_name) as con:\n",
    "        try:\n",
    "            query=\"SELECT * FROM {}\".format(table_name)\n",
    "            df=pd.read_sql(query, con=con)\n",
    "        except Exception as e:\n",
    "            print(str(e))\n",
    "        return df"
   ]
  },
  {
   "cell_type": "code",
   "execution_count": 22,
   "metadata": {},
   "outputs": [],
   "source": [
    "def db_delete(db_name, table_name):\n",
    "    with sqlite3.connect(db_name) as con:\n",
    "        try:\n",
    "            cur=con.cursor()\n",
    "            sql=\"DELETE FROM {}\".format(table_name)\n",
    "            cur.excute(sql)\n",
    "        except Exception as e:\n",
    "            print(str(e))"
   ]
  }
 ],
 "metadata": {
  "kernelspec": {
   "display_name": "Python 3",
   "language": "python",
   "name": "python3"
  },
  "language_info": {
   "codemirror_mode": {
    "name": "ipython",
    "version": 3
   },
   "file_extension": ".py",
   "mimetype": "text/x-python",
   "name": "python",
   "nbconvert_exporter": "python",
   "pygments_lexer": "ipython3",
   "version": "3.7.6"
  }
 },
 "nbformat": 4,
 "nbformat_minor": 4
}
