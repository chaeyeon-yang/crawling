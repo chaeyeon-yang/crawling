{
 "cells": [
  {
   "cell_type": "markdown",
   "id": "0a2e6aa7",
   "metadata": {},
   "source": [
    "## 웹 페이지에서 데이터 추출"
   ]
  },
  {
   "cell_type": "markdown",
   "id": "8005456c",
   "metadata": {},
   "source": [
    "### 1. 정규 표현식을 이용한 스크래핑 \n",
    "#### **HTML을 단순한 문자열로 취급하여 필요한 정보 추출\n",
    "#### **마크업되지 않은 웹 페이지도 문자열의 특징을 파악하면 스크래핑 가능\n",
    "### 2. XML 파서를 이용한 스크래핑\n",
    "#### **XML 태그를 분석(파싱)하여 필요한 정보 추출\n",
    "#### **블로그 또는 뉴스사이트 정보를 전달하기 위한 RSS와 같이 많은 데이터가 XML 형태로 제공\n",
    "#### **XML파서를 사용하면 정규 표현식보다 간단하고 효과적으로 필요한 정보 추출가능\n",
    "### 3. HTML을 스크래핑\n",
    "#### **HTML 전용 파서가 필요\n",
    "#### **파이썬의 표준 모듈인 html, parser 모듈을 사용하면 HTML 파싱 가능(복잡한 처리 필요)\n",
    "#### **lxml 등과 같은 라이브러리를 사용하여 HTML 파싱 필요"
   ]
  },
  {
   "cell_type": "code",
   "execution_count": null,
   "id": "ed88ea09",
   "metadata": {},
   "outputs": [],
   "source": []
  },
  {
   "cell_type": "markdown",
   "id": "f5bec03b",
   "metadata": {},
   "source": [
    "### 1. 정규 표현식을 이용한 스크래핑\n",
    "#### 정규식(Regular expressions, Regex 또는 Regexp)이란?\n",
    "#### 특정 검색 패턴(ASCII또는 유니코드 문자의 시퀀스)에 대한 하나 이상의 일치 항목을 검색\n",
    "#### 검색된 텍스트로부터 정보를 추출하는데 매우 유용하게 사용가능한 표현식\n",
    "#### 유효성 검사에서 문자열 파싱 및 대체, 데이터를 다른 형식으로 변환 및 웹 스크래핑에 이르기까지 \n",
    "#### 다양한 응용분야에서 활용\n",
    "#### 프로그래밍언어와 택스트 에디터(vi, Ultra Editor, notepad++,Editplus 등)에 적용 가능"
   ]
  },
  {
   "cell_type": "code",
   "execution_count": null,
   "id": "dae2a5ec",
   "metadata": {},
   "outputs": [],
   "source": []
  },
  {
   "cell_type": "markdown",
   "id": "1ede674c",
   "metadata": {},
   "source": [
    "### 2. XML을 이용한 스크래핑\n",
    "#### RSS(Really Simple Syndication, Rich Site Summary)란?\n",
    "#### 뉴스나 블로그 등 업데이트가 빈번한 사이트에서 주로 사용하는 콘텐츠 표현 방식\n",
    "#### 구독자들에게 업데이트된 정보를 용이하게 제공하기 위해 XML 기반으로 정보 표현\n",
    "#### RSS 서비스를 이용하면 업데이트된 정보를 찾기위해 홈페이지를 일일히 방문하지 않아도 \n",
    "#### 업데이트 될 때마다 빠르고 편리하게 확인 가능\n",
    "#### 브라우저에 확장 프로그램으로 제공되기도 함"
   ]
  },
  {
   "cell_type": "markdown",
   "id": "1acc34b0",
   "metadata": {},
   "source": [
    "**기상청 RSS 제공 사이트\n",
    "http://www.weather.go.kr/weather/lifenindustry/sercive_rss.jsp\n",
    "\n",
    "**서울 경기도 지역 중기예보 RSS URL\n",
    "http://www.kma.go.kr/weather/forecast/mid-term-rss3.jsp?stnld=109"
   ]
  },
  {
   "cell_type": "markdown",
   "id": "0ebf9f12",
   "metadata": {},
   "source": [
    "### - RSS 스크래핑"
   ]
  },
  {
   "cell_type": "code",
   "execution_count": 9,
   "id": "3a217e22",
   "metadata": {},
   "outputs": [],
   "source": [
    "# ElementTree 모듈을 로드\n",
    "from xml.etree import ElementTree"
   ]
  },
  {
   "cell_type": "code",
   "execution_count": 11,
   "id": "6e1dc4ef",
   "metadata": {},
   "outputs": [],
   "source": [
    "# parse() 함수로 파일을 읽고 ElementTree 객체를 생성\n",
    "tree=ElementTree.parse('rss.xml')"
   ]
  },
  {
   "cell_type": "code",
   "execution_count": 12,
   "id": "0dcd6a77",
   "metadata": {},
   "outputs": [],
   "source": [
    "root=tree.getroot()"
   ]
  },
  {
   "cell_type": "code",
   "execution_count": 13,
   "id": "c5d7822f",
   "metadata": {},
   "outputs": [],
   "source": [
    "import pandas as pd"
   ]
  },
  {
   "cell_type": "code",
   "execution_count": 14,
   "id": "7e32ff43",
   "metadata": {},
   "outputs": [
    {
     "data": {
      "text/html": [
       "<div>\n",
       "<style scoped>\n",
       "    .dataframe tbody tr th:only-of-type {\n",
       "        vertical-align: middle;\n",
       "    }\n",
       "\n",
       "    .dataframe tbody tr th {\n",
       "        vertical-align: top;\n",
       "    }\n",
       "\n",
       "    .dataframe thead th {\n",
       "        text-align: right;\n",
       "    }\n",
       "</style>\n",
       "<table border=\"1\" class=\"dataframe\">\n",
       "  <thead>\n",
       "    <tr style=\"text-align: right;\">\n",
       "      <th></th>\n",
       "      <th>일시</th>\n",
       "      <th>최저기온</th>\n",
       "      <th>최고기온</th>\n",
       "      <th>날씨</th>\n",
       "    </tr>\n",
       "  </thead>\n",
       "  <tbody>\n",
       "    <tr>\n",
       "      <th>0</th>\n",
       "      <td>2020-06-25 00:00</td>\n",
       "      <td>21</td>\n",
       "      <td>26</td>\n",
       "      <td>흐리고 비</td>\n",
       "    </tr>\n",
       "    <tr>\n",
       "      <th>0</th>\n",
       "      <td>2020-06-25 12:00</td>\n",
       "      <td>21</td>\n",
       "      <td>26</td>\n",
       "      <td>흐리고 비</td>\n",
       "    </tr>\n",
       "    <tr>\n",
       "      <th>0</th>\n",
       "      <td>2020-06-26 00:00</td>\n",
       "      <td>21</td>\n",
       "      <td>29</td>\n",
       "      <td>흐리고 비</td>\n",
       "    </tr>\n",
       "    <tr>\n",
       "      <th>0</th>\n",
       "      <td>2020-06-26 12:00</td>\n",
       "      <td>21</td>\n",
       "      <td>29</td>\n",
       "      <td>구름많음</td>\n",
       "    </tr>\n",
       "    <tr>\n",
       "      <th>0</th>\n",
       "      <td>2020-06-27 00:00</td>\n",
       "      <td>22</td>\n",
       "      <td>29</td>\n",
       "      <td>구름많음</td>\n",
       "    </tr>\n",
       "    <tr>\n",
       "      <th>...</th>\n",
       "      <td>...</td>\n",
       "      <td>...</td>\n",
       "      <td>...</td>\n",
       "      <td>...</td>\n",
       "    </tr>\n",
       "    <tr>\n",
       "      <th>0</th>\n",
       "      <td>2020-06-29 00:00</td>\n",
       "      <td>23</td>\n",
       "      <td>26</td>\n",
       "      <td>흐리고 비</td>\n",
       "    </tr>\n",
       "    <tr>\n",
       "      <th>0</th>\n",
       "      <td>2020-06-29 12:00</td>\n",
       "      <td>23</td>\n",
       "      <td>26</td>\n",
       "      <td>흐리고 비</td>\n",
       "    </tr>\n",
       "    <tr>\n",
       "      <th>0</th>\n",
       "      <td>2020-06-30 00:00</td>\n",
       "      <td>22</td>\n",
       "      <td>26</td>\n",
       "      <td>흐리고 비</td>\n",
       "    </tr>\n",
       "    <tr>\n",
       "      <th>0</th>\n",
       "      <td>2020-07-01 00:00</td>\n",
       "      <td>22</td>\n",
       "      <td>26</td>\n",
       "      <td>흐리고 비</td>\n",
       "    </tr>\n",
       "    <tr>\n",
       "      <th>0</th>\n",
       "      <td>2020-07-02 00:00</td>\n",
       "      <td>22</td>\n",
       "      <td>27</td>\n",
       "      <td>흐림</td>\n",
       "    </tr>\n",
       "  </tbody>\n",
       "</table>\n",
       "<p>533 rows × 4 columns</p>\n",
       "</div>"
      ],
      "text/plain": [
       "                  일시 최저기온 최고기온     날씨\n",
       "0   2020-06-25 00:00   21   26  흐리고 비\n",
       "0   2020-06-25 12:00   21   26  흐리고 비\n",
       "0   2020-06-26 00:00   21   29  흐리고 비\n",
       "0   2020-06-26 12:00   21   29   구름많음\n",
       "0   2020-06-27 00:00   22   29   구름많음\n",
       "..               ...  ...  ...    ...\n",
       "0   2020-06-29 00:00   23   26  흐리고 비\n",
       "0   2020-06-29 12:00   23   26  흐리고 비\n",
       "0   2020-06-30 00:00   22   26  흐리고 비\n",
       "0   2020-07-01 00:00   22   26  흐리고 비\n",
       "0   2020-07-02 00:00   22   27     흐림\n",
       "\n",
       "[533 rows x 4 columns]"
      ]
     },
     "execution_count": 14,
     "metadata": {},
     "output_type": "execute_result"
    }
   ],
   "source": [
    "데이터프레임_리스트=[]\n",
    "for item in root.findall('channel/item/description/body/location/data'):\n",
    "    #find() 메서드로 element 탐색, text 속성으로 값을 추출\n",
    "    tm_ef=item.find('tmEf').text\n",
    "    tmn=item.find('tmn').text\n",
    "    tmx=item.find('tmx').text\n",
    "    wf=item.find('wf').text\n",
    "    데이터프레임=pd.DataFrame({\n",
    "        '일시':[tm_ef],\n",
    "        '최저기온':[tmn],\n",
    "        '최고기온':[tmx],\n",
    "        '날씨':[wf]\n",
    "    })\n",
    "    데이터프레임_리스트.append(데이터프레임)\n",
    "날씨정보=pd.concat(데이터프레임_리스트)\n",
    "날씨정보"
   ]
  }
 ],
 "metadata": {
  "kernelspec": {
   "display_name": "Python 3 (ipykernel)",
   "language": "python",
   "name": "python3"
  },
  "language_info": {
   "codemirror_mode": {
    "name": "ipython",
    "version": 3
   },
   "file_extension": ".py",
   "mimetype": "text/x-python",
   "name": "python",
   "nbconvert_exporter": "python",
   "pygments_lexer": "ipython3",
   "version": "3.9.6"
  }
 },
 "nbformat": 4,
 "nbformat_minor": 5
}
